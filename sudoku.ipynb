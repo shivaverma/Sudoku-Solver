{
 "cells": [
  {
   "cell_type": "code",
   "execution_count": null,
   "metadata": {},
   "outputs": [],
   "source": [
    "import copy\n",
    "import keras\n",
    "import numpy as np\n",
    "from model import get_model\n",
    "from scripts.data_preprocess import get_data"
   ]
  },
  {
   "cell_type": "markdown",
   "metadata": {},
   "source": [
    "## Load the data"
   ]
  },
  {
   "cell_type": "code",
   "execution_count": null,
   "metadata": {},
   "outputs": [],
   "source": [
    "x_train, x_test, y_train, y_test = get_data('sudoku.csv')"
   ]
  },
  {
   "cell_type": "markdown",
   "metadata": {},
   "source": [
    "## Train your own Model"
   ]
  },
  {
   "cell_type": "code",
   "execution_count": null,
   "metadata": {},
   "outputs": [],
   "source": [
    "model = get_model()\n",
    "\n",
    "adam = keras.optimizers.Adam(lr=.001)\n",
    "model.compile(loss='sparse_categorical_crossentropy', optimizer=adam)\n",
    "\n",
    "model.fit(x_train, y_train, batch_size=32, epochs=2)"
   ]
  },
  {
   "cell_type": "markdown",
   "metadata": {},
   "source": [
    "## Or load pretrained model"
   ]
  },
  {
   "cell_type": "code",
   "execution_count": null,
   "metadata": {},
   "outputs": [],
   "source": [
    "model = keras.models.load_model('model/sudoku.model')"
   ]
  },
  {
   "cell_type": "markdown",
   "metadata": {},
   "source": [
    "## Solve Sudoku by filling blank positions one by one"
   ]
  },
  {
   "cell_type": "code",
   "execution_count": null,
   "metadata": {},
   "outputs": [],
   "source": [
    "def norm(a):\n",
    "    return (a/9)-.5"
   ]
  },
  {
   "cell_type": "code",
   "execution_count": null,
   "metadata": {},
   "outputs": [],
   "source": [
    "def denorm(a):\n",
    "    return (a + .5) * 9"
   ]
  },
  {
   "cell_type": "code",
   "execution_count": null,
   "metadata": {},
   "outputs": [],
   "source": [
    "def inference_sudoku(sample):\n",
    "    '''\n",
    "        This function solve the sudoku by filling blank positions one by one.\n",
    "    '''\n",
    "    feat = copy.copy(sample)\n",
    "\n",
    "    while(1):\n",
    "        out = model.predict(feat.reshape((1, 9, 9, 1)))\n",
    "        out = out.squeeze()\n",
    "\n",
    "        pred = np.argmax(out, axis=1).reshape((9, 9)) + 1\n",
    "        prob = np.around(np.max(out, axis=1).reshape((9, 9)), 2)\n",
    "        \n",
    "        feat = denorm(feat).reshape((9, 9))\n",
    "        mask = (feat == 0)\n",
    "\n",
    "        if(mask.sum() == 0):\n",
    "            break\n",
    "\n",
    "        prob_new = prob * mask\n",
    "\n",
    "        ind = np.argmax(prob_new)\n",
    "        x, y = (ind // 9), (ind % 9)\n",
    "\n",
    "        val = pred[x][y]\n",
    "        feat[x][y] = val\n",
    "        feat = norm(feat)\n",
    "\n",
    "    return pred"
   ]
  },
  {
   "cell_type": "markdown",
   "metadata": {},
   "source": [
    "## Testing 100 games"
   ]
  },
  {
   "cell_type": "code",
   "execution_count": null,
   "metadata": {},
   "outputs": [],
   "source": [
    "def test_accuracy(feats, labels):\n",
    "\n",
    "    correct = 0\n",
    "\n",
    "    for i, feat in enumerate(feats):\n",
    "\n",
    "        pred = inference_sudoku(feat)\n",
    "\n",
    "        true = labels[i].reshape((9, 9)) + 1\n",
    "\n",
    "        if(abs(true - pred).sum() == 0):\n",
    "            correct += 1\n",
    "\n",
    "    print(correct / feats.shape[0])"
   ]
  },
  {
   "cell_type": "code",
   "execution_count": null,
   "metadata": {},
   "outputs": [],
   "source": [
    "test_accuracy(x_test[:100], y_test[:100])"
   ]
  },
  {
   "cell_type": "markdown",
   "metadata": {},
   "source": [
    "## Test your own game"
   ]
  },
  {
   "cell_type": "code",
   "execution_count": null,
   "metadata": {},
   "outputs": [],
   "source": [
    "def solve_sudoku(game):\n",
    "    game = game.replace('\\n', '')\n",
    "    game = game.replace(' ', '')\n",
    "    game = np.array([int(j) for j in game]).reshape((9, 9, 1))\n",
    "    game = norm(game)\n",
    "    game = inference_sudoku(game)\n",
    "    return game"
   ]
  },
  {
   "cell_type": "code",
   "execution_count": null,
   "metadata": {},
   "outputs": [],
   "source": [
    "game = '''\n",
    "          0 8 0 0 3 2 0 0 1\n",
    "          7 0 3 0 8 0 0 0 2\n",
    "          5 0 0 0 0 7 0 3 0\n",
    "          0 5 0 0 0 1 9 7 0\n",
    "          6 0 0 7 0 9 0 0 8\n",
    "          0 4 7 2 0 0 0 5 0\n",
    "          0 2 0 6 0 0 0 0 9\n",
    "          8 0 0 0 9 0 3 0 5\n",
    "          3 0 0 8 2 0 0 1 0\n",
    "      '''\n",
    "\n",
    "game = solve_sudoku(game)\n",
    "\n",
    "print('solved puzzle:\\n')\n",
    "print(game)"
   ]
  },
  {
   "cell_type": "code",
   "execution_count": null,
   "metadata": {},
   "outputs": [],
   "source": [
    "np.sum(game, axis=1)"
   ]
  },
  {
   "cell_type": "code",
   "execution_count": null,
   "metadata": {},
   "outputs": [],
   "source": []
  }
 ],
 "metadata": {
  "kernelspec": {
   "display_name": "Python 3",
   "language": "python",
   "name": "python3"
  },
  "language_info": {
   "codemirror_mode": {
    "name": "ipython",
    "version": 3
   },
   "file_extension": ".py",
   "mimetype": "text/x-python",
   "name": "python",
   "nbconvert_exporter": "python",
   "pygments_lexer": "ipython3",
   "version": "3.7.3"
  }
 },
 "nbformat": 4,
 "nbformat_minor": 2
}